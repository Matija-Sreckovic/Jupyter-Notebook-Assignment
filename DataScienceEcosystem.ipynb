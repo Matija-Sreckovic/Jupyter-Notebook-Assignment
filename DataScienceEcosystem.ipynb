{
 "cells": [
  {
   "cell_type": "markdown",
   "id": "a2d63362-c219-4926-9898-9b6c1611c0fb",
   "metadata": {
    "tags": []
   },
   "source": [
    "# Data Science Tools and Ecosystem"
   ]
  },
  {
   "cell_type": "markdown",
   "id": "a70290a8-c52e-474d-bd16-38d877028a4e",
   "metadata": {
    "tags": []
   },
   "source": [
    "## Author\n",
    "Matija Sreckovic"
   ]
  },
  {
   "cell_type": "markdown",
   "id": "a91d9aaa-3263-48ca-b254-16e4116a2c49",
   "metadata": {},
   "source": [
    "In this notebook, Data Science Tools and Ecosystem are summarized."
   ]
  },
  {
   "cell_type": "markdown",
   "id": "522331a5-13eb-4c9d-bc7e-02b850e568e3",
   "metadata": {},
   "source": [
    "**Objectives:**\n",
    "- List some popular Data Science languages\n",
    "- List some commonly used libraries for Data Science\n",
    "- Convert 200 minutes into hours and minutes"
   ]
  },
  {
   "cell_type": "markdown",
   "id": "8b6ec137-e520-4db9-8615-0e879b50f2e1",
   "metadata": {},
   "source": [
    "Some of the popular languages that Data Scientists use are:\n",
    "1. Python\n",
    "2. R\n",
    "3. Julia"
   ]
  },
  {
   "cell_type": "markdown",
   "id": "9693eebb-3cb4-40d9-b232-94d5d45dba60",
   "metadata": {},
   "source": [
    "Some of the commonly used libraries used by Data Scientists include:\n",
    "1. numpy\n",
    "2. dplyr\n",
    "3. caret"
   ]
  },
  {
   "cell_type": "markdown",
   "id": "d5c17a0d-25bb-4e55-8574-eb5c6786fd86",
   "metadata": {},
   "source": [
    "| Data Science Tools |\n",
    "| ------- |\n",
    "| GitHub |\n",
    "| JupyterLab |\n",
    "| RStudio |"
   ]
  },
  {
   "cell_type": "markdown",
   "id": "ab67da59-f07d-4fe8-a313-c738cbfc66dd",
   "metadata": {},
   "source": [
    "### Below are a few examples of evaluating arithmetic expressions in Python."
   ]
  },
  {
   "cell_type": "code",
   "execution_count": 2,
   "id": "0af1a1d1-e031-4875-8e9f-218eb004d59e",
   "metadata": {
    "tags": []
   },
   "outputs": [
    {
     "data": {
      "text/plain": [
       "17"
      ]
     },
     "execution_count": 2,
     "metadata": {},
     "output_type": "execute_result"
    }
   ],
   "source": [
    "#This a simple arithmetic expression to mutiply then add integers\n",
    "(3*4)+5"
   ]
  },
  {
   "cell_type": "code",
   "execution_count": 6,
   "id": "f4908b20-e753-4da7-b56a-99773c65ebbb",
   "metadata": {
    "tags": []
   },
   "outputs": [
    {
     "name": "stdout",
     "output_type": "stream",
     "text": [
      "200 minutes is 3 hours and 20 minutes.\n"
     ]
    }
   ],
   "source": [
    "#This will convert 200 minutes to hours by diving by 60\n",
    "total_minutes = 200\n",
    "hours = 200//60\n",
    "remaining_minutes = 200%60\n",
    "print(\"{} minutes is {} hours and {} minutes.\".format(total_minutes, hours, remaining_minutes))"
   ]
  },
  {
   "cell_type": "code",
   "execution_count": null,
   "id": "3a3eab42-5830-49b4-9f9f-97096689ea71",
   "metadata": {},
   "outputs": [],
   "source": []
  }
 ],
 "metadata": {
  "kernelspec": {
   "display_name": "Python",
   "language": "python",
   "name": "conda-env-python-py"
  },
  "language_info": {
   "codemirror_mode": {
    "name": "ipython",
    "version": 3
   },
   "file_extension": ".py",
   "mimetype": "text/x-python",
   "name": "python",
   "nbconvert_exporter": "python",
   "pygments_lexer": "ipython3",
   "version": "3.7.12"
  }
 },
 "nbformat": 4,
 "nbformat_minor": 5
}
